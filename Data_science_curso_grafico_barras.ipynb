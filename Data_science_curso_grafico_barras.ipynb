{
  "nbformat": 4,
  "nbformat_minor": 0,
  "metadata": {
    "colab": {
      "name": "Data-science-curso-grafico-barras.ipynb",
      "provenance": [],
      "collapsed_sections": []
    },
    "kernelspec": {
      "name": "python3",
      "display_name": "Python 3"
    }
  },
  "cells": [
    {
      "cell_type": "code",
      "metadata": {
        "id": "_OGFOFy1LUCu",
        "colab_type": "code",
        "colab": {
          "base_uri": "https://localhost:8080/",
          "height": 295
        },
        "outputId": "7a233862-072c-4bcc-9a3d-96d25a837d3b"
      },
      "source": [
        "#visualização dos dados em python\n",
        "import matplotlib.pyplot as plt\n",
        "\n",
        "x = [1,2,3,4,5]\n",
        "y = [2,3,7,1,0]\n",
        "eixox = \"Eixo X\"\n",
        "eixoy = \"Eixo Y\"\n",
        "title = \"Gráfico em barras\"\n",
        "\n",
        "#legendas\n",
        "plt.title(title)\n",
        "plt.xlabel(eixox)\n",
        "plt.ylabel(eixoy)\n",
        "\n",
        "plt.bar(x,y)\n",
        "plt.show()\n"
      ],
      "execution_count": 4,
      "outputs": [
        {
          "output_type": "display_data",
          "data": {
            "image/png": "[encoded data removed]",
            "text/plain": [
              "<Figure size 432x288 with 1 Axes>"
            ]
          },
          "metadata": {
            "tags": []
          }
        }
      ]
    }
  ]
}