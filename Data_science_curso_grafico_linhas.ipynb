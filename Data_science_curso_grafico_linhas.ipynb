{
  "nbformat": 4,
  "nbformat_minor": 0,
  "metadata": {
    "colab": {
      "name": "Data-science-curso-grafico-linhas.ipynb",
      "provenance": []
    },
    "kernelspec": {
      "name": "python3",
      "display_name": "Python 3"
    }
  },
  "cells": [
    {
      "cell_type": "code",
      "metadata": {
        "id": "_OGFOFy1LUCu",
        "colab_type": "code",
        "colab": {}
      },
      "source": [
        "#visualização dos dados em python\n",
        "import matplotlib.pyplot as plt\n",
        "\n",
        "x = [1,2,7]\n",
        "y = [2,3,5]\n",
        "\n",
        "plt.title(\"Meu primeiro gráfico em python\")\n",
        "\n",
        "#eixo\n",
        "plt.xlabel(\"Eixo x\")\n",
        "plt.ylabel(\"Eixo y\")\n",
        "\n",
        "plt.plot(x,y)\n",
        "plt.show()\n"
      ],
      "execution_count": 0,
      "outputs": []
    }
  ]
}