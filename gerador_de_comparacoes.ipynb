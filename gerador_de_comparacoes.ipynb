{
 "cells": [
  {
   "cell_type": "code",
   "execution_count": 13,
   "metadata": {},
   "outputs": [],
   "source": [
    "entrada = open(\"human.fasta\").read()\n",
    "saida = open(\"human.html\",\"w\")\n",
    "\n",
    "cont = {}\n",
    "\n",
    "for i in ['A','T','C','G']:\n",
    "\t  for j in ['A','T','C','G']:\n",
    "\t\t  cont[i+j] = 0\n",
    "      \n",
    "entrada = entrada.replace(\"\\n\",\"\")\n",
    "\n",
    "for k in range(len(entrada)-1):\n",
    "\t cont[entrada[k]+entrada[k+1]] += 1\n",
    "\n",
    "\n",
    "\n",
    "\n",
    "#html\n",
    "\n",
    "saida.write(\"<div>\")\n",
    "\n",
    "i = 1\n",
    "\n",
    "for k in cont:\n",
    "    transparencia = cont[k]/max(cont.values())\n",
    "    saida.write(\"<div style='width:100px; border:1px solid #111;color:#fff;height:100px;float:left;background-color:rgba(0,0,0,\"+str(transparencia)+\"')>\"+k+\"</div>\")\n",
    "    if i%4==0:\n",
    "        saida.write(\"<div style='clear:both'></div>\")\n",
    "\n",
    "    i+=1\n",
    "                \n",
    "\n",
    "saida.close()"
   ]
  },
  {
   "cell_type": "code",
   "execution_count": null,
   "metadata": {},
   "outputs": [],
   "source": []
  }
 ],
 "metadata": {
  "kernelspec": {
   "display_name": "Python 3",
   "language": "python",
   "name": "python3"
  },
  "language_info": {
   "codemirror_mode": {
    "name": "ipython",
    "version": 3
   },
   "file_extension": ".py",
   "mimetype": "text/x-python",
   "name": "python",
   "nbconvert_exporter": "python",
   "pygments_lexer": "ipython3",
   "version": "3.6.9"
  }
 },
 "nbformat": 4,
 "nbformat_minor": 2
}
