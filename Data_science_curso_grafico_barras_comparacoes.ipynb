{
  "nbformat": 4,
  "nbformat_minor": 0,
  "metadata": {
    "colab": {
      "name": "Data-science-curso-grafico-barras-comparacoes.ipynb",
      "provenance": [],
      "collapsed_sections": []
    },
    "kernelspec": {
      "name": "python3",
      "display_name": "Python 3"
    }
  },
  "cells": [
    {
      "cell_type": "code",
      "metadata": {
        "id": "_OGFOFy1LUCu",
        "colab_type": "code",
        "colab": {
          "base_uri": "https://localhost:8080/",
          "height": 295
        },
        "outputId": "2d4bc8d2-60a3-4695-c707-3ade208d0bd0"
      },
      "source": [
        "#visualização dos dados em python\n",
        "import matplotlib.pyplot as plt\n",
        "\n",
        "x1 = [1,3,5,7,9]\n",
        "y1 = [2,3,7,1,0]\n",
        "\n",
        "x2 = [2,4,6,8,10]\n",
        "y2 = [3,6,3,1,2]\n",
        "\n",
        "\n",
        "eixox = \"Eixo X\"\n",
        "eixoy = \"Eixo Y\"\n",
        "title = \"Comparações de Gráficos\"\n",
        "\n",
        "#legendas\n",
        "plt.title(title)\n",
        "plt.xlabel(eixox)\n",
        "plt.ylabel(eixoy)\n",
        "\n",
        "plt.bar(x1,y1, label=\"Grupo 1\")\n",
        "plt.bar(x2,y2, label=\"Grupo 2\")\n",
        "plt.legend()\n",
        "plt.show()\n"
      ],
      "execution_count": 7,
      "outputs": [
        {
          "output_type": "display_data",
          "data": {
            "image/png": "[encoded data removed]",
            "text/plain": [
              "<Figure size 432x288 with 1 Axes>"
            ]
          },
          "metadata": {
            "tags": []
          }
        }
      ]
    }
  ]
}